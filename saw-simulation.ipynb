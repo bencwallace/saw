{
 "cells": [
  {
   "cell_type": "markdown",
   "metadata": {},
   "source": [
    "# Simple MCMC for Self-Avoiding Walk\n",
    "## 1. Markov chains\n",
    "Simply put, a *Markov chain* is a sequence $X_0, X_1, X_2, \\ldots$ of random variables for which each element $X_n$ has distribution depending only on the preceding element $X_{n-1}$. More precisely, the distribution of $X_n$ conditional on the *past* $X_0, \\ldots, X_{n-1}$ is the same as its distribution conditional only on the *immediate past* $X_{n-1}$. This *Markov property* can be written as the system of equations\n",
    "$$P(X_n \\mid X_0, \\ldots, X_{n-1}) = P(X_n \\mid X_{n-1})$$"
   ]
  },
  {
   "cell_type": "markdown",
   "metadata": {},
   "source": [
    "## 1.1. Markov Chain Monte Carlo"
   ]
  },
  {
   "cell_type": "markdown",
   "metadata": {},
   "source": [
    "Suppose we wish to sample from a probability distribution $\\pi$ on a state space $\\Omega$. For simplicity, let us assume that $\\Omega$ is finite. A common approach to this problem is to use a *Markov Chain Monte Carlo (MCMC)* sampler: The idea is to construct an ergodic Markov chain $X = (X_n)_{n \\ge 0}$ with stationary distribution $\\pi$. Then by the ergodic theorem for Markov chains, as $n\\to\\infty$,\n",
    "$$X_n \\Rightarrow X,$$\n",
    "where $X \\sim \\pi$. Thus, one can approximately sample from $\\pi$ by sampling $X_n$ for large $n$."
   ]
  },
  {
   "cell_type": "markdown",
   "metadata": {},
   "source": [
    "### 1.2. The Metropolis-Hastings algorithm"
   ]
  },
  {
   "cell_type": "markdown",
   "metadata": {},
   "source": [
    "The *Metropolis-Hastings algorithm* is a MCMC method for sampling from $\\pi$ using only an unnormalized version $f$ of $\\pi$. This is commonly needed, for example, when $\\pi$ is a Gibbs-type distribution of the form\n",
    "$$\\pi(\\omega) = \\frac{1}{Z} \\; f(\\omega),$$\n",
    "for which the *partition function*\n",
    "$$Z = \\sum_{\\omega\\in\\Omega} f(\\omega)$$\n",
    "can be difficult to compute when $\\Omega$ is large."
   ]
  },
  {
   "cell_type": "markdown",
   "metadata": {},
   "source": [
    "The algorithm presupposes a choice of irreducible Markov chain on $\\Omega$ with transition matrix $P$. Given such a choice of $P$, we define an $\\Omega \\times \\Omega$ matrix $Q$ via"
   ]
  },
  {
   "cell_type": "markdown",
   "metadata": {},
   "source": [
    "$$\n",
    "Q(\\omega, \\omega') =\n",
    "\\begin{cases}\n",
    "P(\\omega, \\omega'), & \\omega \\ne \\omega', r(\\omega, \\omega') \\ge 1 \\\\\n",
    "P(\\omega, \\omega') r(\\omega, \\omega'), & \\omega \\ne \\omega', r(\\omega, \\omega') < 1 \\\\\n",
    "P(\\omega, \\omega')\n",
    "    + \\sum_{\\tilde\\omega : r(\\omega, \\tilde\\omega) < 1}\n",
    "       P(\\omega, \\tilde\\omega) (1 - r(\\omega, \\tilde\\omega)), & \\omega = \\omega'\n",
    "\\end{cases},\n",
    "$$\n",
    "where the *acceptance ratio* $r(\\omega, \\omega')$ is given by\n",
    "$$\n",
    "r(\\omega, \\omega')\n",
    "    = \\frac{\\pi(\\omega') P(\\omega', \\omega)}{\\pi(\\omega) P(\\omega, \\omega')}\n",
    "    = \\frac{f(\\omega') P(\\omega', \\omega)}{f(\\omega) P(\\omega, \\omega')}.\n",
    "$$"
   ]
  },
  {
   "cell_type": "markdown",
   "metadata": {},
   "source": [
    "It is straightforward to verify that $Q$ defines an irreducible, reversible Markov chain $X = (X_n)_{n \\ge 0}$ on $\\Omega$ with stationary distribution $\\pi$. Thus, one can approximately sample from $\\pi$ by sampling $X_n$ for large $n$. Moreover, one can generate $X_{n+1}$ from $X_n$ by first sampling $\\tilde X_{n+1}$ via $P$ and then either accepting the choice $X_{n+1} = \\tilde X_{n+1}$ with probability given by $r$ (which can be computed solely in terms of $f$ and $P$), and otherwise setting $X_{n+1} = X_n$."
   ]
  },
  {
   "cell_type": "markdown",
   "metadata": {},
   "source": [
    "## 2. The self-avoiding walk"
   ]
  },
  {
   "cell_type": "markdown",
   "metadata": {},
   "source": [
    "The *self-avoiding walk* is a model of a linear polymer in a good solution. The microcanonical ensemble on walks of fixed length $n$ is given by the uniform measure $\\pi = \\pi_n$ on the collection $\\Omega = \\Omega_n$ of nearest-neighbour paths on $\\mathbb{Z}^d$ starting at $0.$ That is,\n",
    "$$\\pi(\\omega) = \\frac{1}{c_n},$$\n",
    "where $c_n = |\\Omega_n|$."
   ]
  },
  {
   "cell_type": "markdown",
   "metadata": {},
   "source": [
    "The self-avoiding walk has been implemented as a class `saw` in the module `saw`. Let's\n",
    "create an instance `s` of this class with 20 steps:"
   ]
  },
  {
   "cell_type": "code",
   "execution_count": 1,
   "metadata": {
    "collapsed": true
   },
   "outputs": [],
   "source": [
    "import saw"
   ]
  },
  {
   "cell_type": "code",
   "execution_count": 2,
   "metadata": {
    "collapsed": true
   },
   "outputs": [],
   "source": [
    "s = saw.saw(20)"
   ]
  },
  {
   "cell_type": "markdown",
   "metadata": {},
   "source": [
    "The class `saw.saw` is a subclass of `Subsequence`, so the walk `s` is indexable. For example, we can write:"
   ]
  },
  {
   "cell_type": "code",
   "execution_count": 3,
   "metadata": {
    "collapsed": false
   },
   "outputs": [
    {
     "data": {
      "text/plain": [
       "array([10,  0])"
      ]
     },
     "execution_count": 3,
     "metadata": {},
     "output_type": "execute_result"
    }
   ],
   "source": [
    "s[10]"
   ]
  },
  {
   "cell_type": "markdown",
   "metadata": {},
   "source": [
    "We can plot using `saw.plotwalk`. First, let's make sure we can view plots inline in this notebook:"
   ]
  },
  {
   "cell_type": "code",
   "execution_count": 4,
   "metadata": {
    "collapsed": true
   },
   "outputs": [],
   "source": [
    "%matplotlib inline"
   ]
  },
  {
   "cell_type": "markdown",
   "metadata": {},
   "source": [
    "We'll run `saw.plotwalk` with the option `'-'` to hide the vertices (since the walk is somewhat long)."
   ]
  },
  {
   "cell_type": "code",
   "execution_count": 6,
   "metadata": {
    "collapsed": false
   },
   "outputs": [
    {
     "data": {
      "image/png": "[encoded data removed]",
      "text/plain": [
       "<Figure size 432x288 with 1 Axes>"
      ]
     },
     "metadata": {},
     "output_type": "display_data"
    }
   ],
   "source": [
    "saw.plotwalk(s)"
   ]
  },
  {
   "cell_type": "markdown",
   "metadata": {},
   "source": [
    "As can be seen above, the walk is initialized as a straight line."
   ]
  },
  {
   "cell_type": "markdown",
   "metadata": {},
   "source": [
    "### 2.1. The pivot algorithm"
   ]
  },
  {
   "cell_type": "markdown",
   "metadata": {},
   "source": [
    "The pivot algorithm is a MCMC algorithm for sampling from $\\pi$. The transition matrix is given by\n",
    "$$P(\\omega, T(\\omega)) = \\frac{1}{2dn},$$\n",
    "for any *pivot transformation* $T = T_{i,r}$: that is, $T(\\omega)$ is the walk obtained from $\\omega$ by applying a lattice rotation $r$ to the segment of $\\omega$ with steps from $i, \\ldots, n$. If $\\omega' \\ne T(\\omega)$ for all such $T$, then $P(\\omega, \\omega') = 0$."
   ]
  },
  {
   "cell_type": "markdown",
   "metadata": {},
   "source": [
    "It is straightforward to see that $P$ is an irreducible, reversible Markov chain with stationary distribution $\\pi$."
   ]
  },
  {
   "cell_type": "markdown",
   "metadata": {},
   "source": [
    "We can pivot our walk `s` using the method `s.pivot`. First, we need a $2 \\times 2$ rotation matrix. We can construct such a matrix `r` using numpy:"
   ]
  },
  {
   "cell_type": "code",
   "execution_count": 8,
   "metadata": {
    "collapsed": true
   },
   "outputs": [],
   "source": [
    "import numpy as np\n",
    "r = np.array([[0, 1], [-1, 0]])"
   ]
  },
  {
   "cell_type": "markdown",
   "metadata": {},
   "source": [
    "Then we can pivot the walk about step 10 with the method `s.pivot`:"
   ]
  },
  {
   "cell_type": "code",
   "execution_count": 9,
   "metadata": {
    "collapsed": false
   },
   "outputs": [
    {
     "data": {
      "image/png": "[encoded data removed]",
      "text/plain": [
       "<Figure size 432x288 with 1 Axes>"
      ]
     },
     "metadata": {},
     "output_type": "display_data"
    }
   ],
   "source": [
    "s.pivot(10, r);\n",
    "saw.plotwalk(s)"
   ]
  },
  {
   "cell_type": "markdown",
   "metadata": {},
   "source": [
    "We can run the pivot algorithm for 1000 iterations using `saw.saw.mix`. Let's do this using a new walk `t` with 100 steps:"
   ]
  },
  {
   "cell_type": "code",
   "execution_count": 10,
   "metadata": {
    "collapsed": false
   },
   "outputs": [
    {
     "name": "stdout",
     "output_type": "stream",
     "text": [
      "Iteration 100\n",
      "\n",
      "Iteration 200\n",
      "\n",
      "Iteration 300\n",
      "\n",
      "Iteration 400\n",
      "\n",
      "Iteration 500\n",
      "\n",
      "Iteration 600\n",
      "\n",
      "Iteration 700\n",
      "\n",
      "Iteration 800\n",
      "\n",
      "Iteration 900\n",
      "\n"
     ]
    }
   ],
   "source": [
    "t = saw.saw(100)\n",
    "t.mix(1000)"
   ]
  },
  {
   "cell_type": "markdown",
   "metadata": {},
   "source": [
    "This time, let's plot the walk with the option `'-'` to hide the vertices:"
   ]
  },
  {
   "cell_type": "code",
   "execution_count": 9,
   "metadata": {
    "collapsed": false
   },
   "outputs": [
    {
     "data": {
      "image/png": "[encoded data removed]",
      "text/plain": [
       "<matplotlib.figure.Figure at 0x7f1d263b3eb8>"
      ]
     },
     "metadata": {},
     "output_type": "display_data"
    }
   ],
   "source": [
    "saw.plotwalk(t, '-')"
   ]
  },
  {
   "cell_type": "markdown",
   "metadata": {},
   "source": [
    "## 3. The weakly self-avoiding walk"
   ]
  },
  {
   "cell_type": "markdown",
   "metadata": {},
   "source": [
    "The Domb-Joyce model or discrete-time weakly self-avoiding walk is a variant of the self-avoiding walk. For walks of length $n$ and coupling strength $g$ (typically positive), the canonical distribution for the Domb-Joyce model is given by the measure $\\pi = \\pi_{g,n}$ on $\\Omega = \\Omega_n$ defined by\n",
    "$$\\pi(\\omega) = \\frac{1}{c_{g,n}} e^{-g I(\\omega)},$$\n",
    "where $I(\\omega)$ is the number of intersections in $\\omega$ and\n",
    "$$c_{g,n} = \\sum_{\\omega\\in\\Omega_n} e^{-g I(\\omega)}$$\n",
    "is the canonical partition function."
   ]
  },
  {
   "cell_type": "markdown",
   "metadata": {},
   "source": [
    "### 3.2. Simulating the weakly self-avoiding walk"
   ]
  },
  {
   "cell_type": "markdown",
   "metadata": {},
   "source": [
    "The Domb-Joyce model can be simulated using the Metropolis algorithm, where our choice of underlying Markov chain $P$ is given by the pivot algorithm.\n",
    "Namely, we generate the Markov chain with transition matrix $Q$ given by\n",
    "$$\n",
    "Q(\\omega, \\omega') = \\frac{1}{2dn}\n",
    "\\begin{cases}\n",
    "1, & \\omega \\ne \\omega', r(\\omega, \\omega') \\ge 1 \\\\\n",
    "r(\\omega, \\omega'), & \\omega \\ne \\omega', r(\\omega, \\omega') < 1 \\\\\n",
    "1 + \\sum_{\\tilde\\omega : r(\\omega, \\tilde\\omega) < 1} (1 - r(\\omega, \\tilde\\omega)),\n",
    "    & \\omega = \\omega'\n",
    "\\end{cases},\n",
    "$$\n",
    "where\n",
    "$$r(\\omega, \\omega') = e^{-g (I(\\omega') - I(\\omega))}.$$\n",
    "Note that\n",
    "$$r(\\omega, \\omega') \\ge 1 \\Leftrightarrow I(\\omega') \\le I(\\omega).$$"
   ]
  },
  {
   "cell_type": "markdown",
   "metadata": {},
   "source": [
    "To construct a weak self-avoiding walk `w` with 100 steps and $g = 1$, run:"
   ]
  },
  {
   "cell_type": "code",
   "execution_count": 15,
   "metadata": {
    "collapsed": false
   },
   "outputs": [],
   "source": [
    "w = saw.saw(100, energy='weak', params=[1])"
   ]
  },
  {
   "cell_type": "markdown",
   "metadata": {},
   "source": [
    "We can run the pivot algorithm as before:"
   ]
  },
  {
   "cell_type": "code",
   "execution_count": 16,
   "metadata": {
    "collapsed": false
   },
   "outputs": [
    {
     "name": "stdout",
     "output_type": "stream",
     "text": [
      "Iteration 100\n",
      "\n",
      "Iteration 200\n",
      "\n",
      "Iteration 300\n",
      "\n",
      "Iteration 400\n",
      "\n"
     ]
    }
   ],
   "source": [
    "w.mix(500)"
   ]
  },
  {
   "cell_type": "code",
   "execution_count": 17,
   "metadata": {
    "collapsed": false
   },
   "outputs": [
    {
     "data": {
      "image/png": "[encoded data removed]",
      "text/plain": [
       "<matplotlib.figure.Figure at 0x7f1d238cdc88>"
      ]
     },
     "metadata": {},
     "output_type": "display_data"
    }
   ],
   "source": [
    "saw.plotwalk(w, '-')"
   ]
  },
  {
   "cell_type": "markdown",
   "metadata": {},
   "source": [
    "Notice how the simulation above contains a few intersections, but is mostly intersection-free."
   ]
  },
  {
   "cell_type": "markdown",
   "metadata": {},
   "source": [
    "## 4. Other models"
   ]
  },
  {
   "cell_type": "markdown",
   "metadata": {},
   "source": [
    "Given any energy function $H : \\Omega_n \\to \\mathbb{R}$, we can define a model of walks by assigning probabilities to the $\\omega\\in\\Omega_n$ proportional to $e^{-H(\\omega)}$. For example, the module `saw` contains the energy function `saw.wsaw_sa` for a weakly self-avoiding walk with contact self-attraction. This function $H = H_{g,\\gamma}$ depends on two parameters $g, \\gamma$ and is defined by\n",
    "$$H(\\omega) = g I(\\omega) - \\gamma C(\\omega),$$\n",
    "where $C(\\omega)$ is the number of self-contacts in $\\omega$."
   ]
  },
  {
   "cell_type": "markdown",
   "metadata": {},
   "source": [
    "Suppose we have an energy function `energy` that takes certain parameters as arguments. That is, this function is of the form `energy(walk, p1, p2, ...)`. We can construct such a walk by passing the energy function and the parameters (as a list) when we initialize `saw.saw`. For instance, with the energy function `saw.wsaw_sa`, we have the following:"
   ]
  },
  {
   "cell_type": "code",
   "execution_count": 13,
   "metadata": {
    "collapsed": true
   },
   "outputs": [],
   "source": [
    "u = saw.saw(100, energy=saw.wsaw_sa, params=[3, 2])"
   ]
  },
  {
   "cell_type": "markdown",
   "metadata": {},
   "source": [
    "## References\n",
    "\n",
    "1. Diaconis, P.: The Markov Chain Monte Carlo Revolution. Bull. Amer. Math. Soc. (N.S.) **46**, 179-205 (2009)\n",
    "2. Madras, N. and Slade, G.: The Self-Avoiding Walk, Birkhauser, Boston, (1993)"
   ]
  }
 ],
 "metadata": {
  "anaconda-cloud": {},
  "kernelspec": {
   "display_name": "Python [default]",
   "language": "python",
   "name": "python3"
  },
  "language_info": {
   "codemirror_mode": {
    "name": "ipython",
    "version": 3
   },
   "file_extension": ".py",
   "mimetype": "text/x-python",
   "name": "python",
   "nbconvert_exporter": "python",
   "pygments_lexer": "ipython3",
   "version": "3.5.6"
  }
 },
 "nbformat": 4,
 "nbformat_minor": 1
}
