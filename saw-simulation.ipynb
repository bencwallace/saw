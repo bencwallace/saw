{
 "cells": [
  {
   "cell_type": "markdown",
   "metadata": {},
   "source": [
    "# Simulation of self-avoiding walk"
   ]
  },
  {
   "cell_type": "markdown",
   "metadata": {},
   "source": [
    "## 1. Markov Chain Monte Carlo"
   ]
  },
  {
   "cell_type": "markdown",
   "metadata": {},
   "source": [
    "Describe MCMC"
   ]
  },
  {
   "cell_type": "markdown",
   "metadata": {},
   "source": [
    "### 1.1. The Metropolis-Hastings algorithm"
   ]
  },
  {
   "cell_type": "markdown",
   "metadata": {},
   "source": [
    "The Metropolis-Hastings algorithm allows us to sample from a distribution $\\pi$ on a state space $\\Omega$ using only an unnormalized version $f$ of $\\pi$. This is useful when $\\pi$ is a Gibbs-type distribution of the form\n",
    "$$\\pi(\\omega) = \\frac{1}{Z} \\; f(\\omega),$$\n",
    "for which the *partition function*\n",
    "$$Z = \\sum_{\\omega\\in\\Omega} f(\\omega)$$\n",
    "can be difficult to compute when $\\Omega$ is large."
   ]
  },
  {
   "cell_type": "markdown",
   "metadata": {},
   "source": [
    "The algorithm presupposes a choice of irreducible Markov chain on $\\Omega$ with transition matrix $P$. Given such a choice of $P$, we define an $\\Omega \\times \\Omega$ matrix $Q$ via\n",
    "$$\n",
    "Q(\\omega, \\omega') =\n",
    "\\begin{cases}\n",
    "P(\\omega, \\omega'), & \\omega \\ne \\omega', r(\\omega, \\omega') \\ge 1 \\\\\n",
    "P(\\omega, \\omega') r(\\omega, \\omega'), & \\omega \\ne \\omega', r(\\omega, \\omega') < 1 \\\\\n",
    "P(\\omega, \\omega')\n",
    "    + \\sum_{\\tilde\\omega : r(\\omega, \\tilde\\omega) < 1}\n",
    "       P(\\omega, \\tilde\\omega) (1 - r(\\omega, \\tilde\\omega)), & \\omega = \\omega'\n",
    "\\end{cases},\n",
    "$$\n",
    "where the *acceptance ratio* $r(\\omega, \\omega')$ is given by\n",
    "$$\n",
    "r(\\omega, \\omega')\n",
    "    = \\frac{\\pi(\\omega') P(\\omega', \\omega)}{\\pi(\\omega) P(\\omega, \\omega')}\n",
    "    = \\frac{f(\\omega') P(\\omega', \\omega)}{f(\\omega) P(\\omega, \\omega')}.\n",
    "$$"
   ]
  },
  {
   "cell_type": "markdown",
   "metadata": {},
   "source": [
    "It is straightforward to verify that $Q$ defines an irreducible, reversible Markov chain $X = (X_n)_{n \\ge 0}$ on $\\Omega$ with stationary distribution $\\pi$; thus,\n",
    "$$X_n \\Rightarrow X_\\infty, \\quad n\\to\\infty$$\n",
    "where $X \\sim \\pi$."
   ]
  },
  {
   "cell_type": "markdown",
   "metadata": {},
   "source": [
    "## 2. The self-avoiding walk"
   ]
  },
  {
   "cell_type": "markdown",
   "metadata": {},
   "source": [
    "The self-avoiding walk is a model of a linear polymer in a good solution. The microcanonical ensemble on walks of fixed length $n$ is given by the uniform measure $\\pi = \\pi_n$ on the collection $\\Omega = \\Omega_n$ of nearest-neighbour paths on $\\mathbb{Z}^d$. That is,\n",
    "$$\\pi(\\omega) = \\frac{1}{c_n},$$\n",
    "where $c_n = |\\Omega_n|$."
   ]
  },
  {
   "cell_type": "markdown",
   "metadata": {},
   "source": [
    "The self-avoiding walk has been implemented as a class `saw` in the module `saw`. Let's\n",
    "create an instance `s` of this class with 100 steps:"
   ]
  },
  {
   "cell_type": "code",
   "execution_count": 2,
   "metadata": {
    "collapsed": true
   },
   "outputs": [],
   "source": [
    "import saw"
   ]
  },
  {
   "cell_type": "code",
   "execution_count": 23,
   "metadata": {
    "collapsed": true
   },
   "outputs": [],
   "source": [
    "s = saw.saw(100)"
   ]
  },
  {
   "cell_type": "markdown",
   "metadata": {},
   "source": [
    "The walk is initialized as a straight line, which we can plot using `saw.plotwalk`. First, let's make sure we can view plots inline in this notebook:"
   ]
  },
  {
   "cell_type": "code",
   "execution_count": 4,
   "metadata": {
    "collapsed": true
   },
   "outputs": [],
   "source": [
    "%matplotlib inline"
   ]
  },
  {
   "cell_type": "markdown",
   "metadata": {},
   "source": [
    "We'll run `saw.plotwalk` with the option `'-'` to hide the vertices (since the walk is somewhat long)."
   ]
  },
  {
   "cell_type": "code",
   "execution_count": 24,
   "metadata": {
    "collapsed": false
   },
   "outputs": [
    {
     "data": {
      "image/png": "[encoded data removed]",
      "text/plain": [
       "<matplotlib.figure.Figure at 0x7f5d080db1d0>"
      ]
     },
     "metadata": {},
     "output_type": "display_data"
    }
   ],
   "source": [
    "saw.plotwalk(s)"
   ]
  },
  {
   "cell_type": "markdown",
   "metadata": {},
   "source": [
    "### 2.1. The pivot algorithm"
   ]
  },
  {
   "cell_type": "markdown",
   "metadata": {},
   "source": [
    "The pivot algorithm is a MCMC algorithm for sampling from $\\pi$. The transition matrix is given by\n",
    "$$P(\\omega, T(\\omega)) = \\frac{1}{2dn},$$\n",
    "for any *pivot transformation* $T = T_{i,r}$: that is, $T(\\omega)$ is the walk obtained from $\\omega$ by applying a lattice rotation $r$ to the segment of $\\omega$ with steps from $i, \\ldots, n$. If $\\omega' \\ne T(\\omega)$ for all such $T$, then $P(\\omega, \\omega') = 0$."
   ]
  },
  {
   "cell_type": "markdown",
   "metadata": {},
   "source": [
    "It is straightforward to see that $P$ is an irreducible, reversible Markov chain with stationary distribution $\\pi$."
   ]
  },
  {
   "cell_type": "markdown",
   "metadata": {},
   "source": [
    "We can pivot our walk `s` using the method `s.pivot`. First, we need a $2 \\times 2$ rotation matrix. We can construct such a matrix `r` using numpy:"
   ]
  },
  {
   "cell_type": "code",
   "execution_count": 7,
   "metadata": {
    "collapsed": true
   },
   "outputs": [],
   "source": [
    "import numpy as np\n",
    "r = np.array([[0, 1], [-1, 0]])"
   ]
  },
  {
   "cell_type": "markdown",
   "metadata": {},
   "source": [
    "Then we can pivot the walk about step 50 with the method `s.pivot`:"
   ]
  },
  {
   "cell_type": "code",
   "execution_count": 17,
   "metadata": {
    "collapsed": false
   },
   "outputs": [
    {
     "data": {
      "image/png": "[encoded data removed]",
      "text/plain": [
       "<matplotlib.figure.Figure at 0x7f5d08233898>"
      ]
     },
     "metadata": {},
     "output_type": "display_data"
    }
   ],
   "source": [
    "s.pivot(50, r);\n",
    "saw.plotwalk(s)"
   ]
  },
  {
   "cell_type": "markdown",
   "metadata": {},
   "source": [
    "We can run the pivot algorithm for 1000 iterations using `saw.saw.mix`. Let's do this using a new walk `t`:"
   ]
  },
  {
   "cell_type": "code",
   "execution_count": 18,
   "metadata": {
    "collapsed": false
   },
   "outputs": [
    {
     "name": "stdout",
     "output_type": "stream",
     "text": [
      "Iteration 100\n",
      "\n",
      "Iteration 200\n",
      "\n",
      "Iteration 300\n",
      "\n",
      "Iteration 400\n",
      "\n",
      "Iteration 500\n",
      "\n",
      "Iteration 600\n",
      "\n",
      "Iteration 700\n",
      "\n",
      "Iteration 800\n",
      "\n",
      "Iteration 900\n",
      "\n"
     ]
    }
   ],
   "source": [
    "t = saw.saw(100)\n",
    "t.mix(1000)"
   ]
  },
  {
   "cell_type": "markdown",
   "metadata": {},
   "source": [
    "This time, let's plot the walk with the option `'-'` to hide the vertices:"
   ]
  },
  {
   "cell_type": "code",
   "execution_count": 22,
   "metadata": {
    "collapsed": false
   },
   "outputs": [
    {
     "data": {
      "image/png": "[encoded data removed]",
      "text/plain": [
       "<matplotlib.figure.Figure at 0x7f5d080be6d8>"
      ]
     },
     "metadata": {},
     "output_type": "display_data"
    }
   ],
   "source": [
    "saw.plotwalk(t, '-')"
   ]
  },
  {
   "cell_type": "markdown",
   "metadata": {},
   "source": [
    "## 3. The Domb-Joyce model"
   ]
  },
  {
   "cell_type": "markdown",
   "metadata": {},
   "source": [
    "Describe the model"
   ]
  },
  {
   "cell_type": "markdown",
   "metadata": {},
   "source": [
    "### 3.2. Simuling the Domb-Joyce model"
   ]
  },
  {
   "cell_type": "markdown",
   "metadata": {},
   "source": [
    "Let $\\Omega = \\Omega_n$ be the collection of $n$-step nearest-neighbour walks. Suppose we wish to sample from the Domb-Joyce measure $\\pi = \\pi_{g,n}$ on $\\Omega$, given by\n",
    "$$\\pi(\\omega) = \\frac{1}{c_n} f(\\omega), \\quad f(\\omega) = e^{-g I(\\omega)}.$$\n",
    "We will accomplish using the Metropolis algorithm, where our choice of underlying Markov chain $P$ is given by the pivot algorithm."
   ]
  },
  {
   "cell_type": "markdown",
   "metadata": {},
   "source": [
    "Namely, we generate the Markov chain with transition matrix $Q$ given by\n",
    "$$\n",
    "Q(\\omega, \\omega') = \\frac{1}{2dn}\n",
    "\\begin{cases}\n",
    "1, & \\omega \\ne \\omega', r(\\omega, \\omega') \\ge 1 \\\\\n",
    "r(\\omega, \\omega'), & \\omega \\ne \\omega', r(\\omega, \\omega') < 1 \\\\\n",
    "1 + \\sum_{\\tilde\\omega : r(\\omega, \\tilde\\omega) < 1} (1 - r(\\omega, \\tilde\\omega)),\n",
    "    & \\omega = \\omega'\n",
    "\\end{cases},\n",
    "$$\n",
    "where\n",
    "$$r(\\omega, \\omega') = e^{-g (I(\\omega') - I(\\omega))}.$$\n",
    "Note that\n",
    "$$r(\\omega, \\omega') \\ge 1 \\Leftrightarrow I(\\omega') \\le I(\\omega).$$"
   ]
  },
  {
   "cell_type": "markdown",
   "metadata": {},
   "source": [
    "Implement the Metropolis algorithm for Domb-Joyce"
   ]
  },
  {
   "cell_type": "markdown",
   "metadata": {},
   "source": [
    "## References"
   ]
  },
  {
   "cell_type": "markdown",
   "metadata": {},
   "source": [
    "1. Diaconis, P.: The Markov Chain Monte Carlo Revolution. Bull. Amer. Math. Soc. (N.S.) **46**, 179-205 (2009)\n",
    "2. Madras, N. and Slade, G.: The Self-Avoiding Walk, Birkhauser, Boston, (1993)"
   ]
  }
 ],
 "metadata": {
  "anaconda-cloud": {},
  "kernelspec": {
   "display_name": "Python [default]",
   "language": "python",
   "name": "python3"
  },
  "language_info": {
   "codemirror_mode": {
    "name": "ipython",
    "version": 3
   },
   "file_extension": ".py",
   "mimetype": "text/x-python",
   "name": "python",
   "nbconvert_exporter": "python",
   "pygments_lexer": "ipython3",
   "version": "3.5.2"
  }
 },
 "nbformat": 4,
 "nbformat_minor": 1
}
